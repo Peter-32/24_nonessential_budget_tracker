{
 "cells": [
  {
   "cell_type": "code",
   "execution_count": 1,
   "metadata": {},
   "outputs": [
    {
     "name": "stdout",
     "output_type": "stream",
     "text": [
      "'date1': '', 'purchase1': '', 'cost1': '', 'category1': ''\n",
      "'date2': '', 'purchase2': '', 'cost2': '', 'category2': ''\n",
      "'date3': '', 'purchase3': '', 'cost3': '', 'category3': ''\n",
      "'date4': '', 'purchase4': '', 'cost4': '', 'category4': ''\n",
      "'date5': '', 'purchase5': '', 'cost5': '', 'category5': ''\n",
      "'date6': '', 'purchase6': '', 'cost6': '', 'category6': ''\n",
      "'date7': '', 'purchase7': '', 'cost7': '', 'category7': ''\n",
      "'date8': '', 'purchase8': '', 'cost8': '', 'category8': ''\n",
      "'date9': '', 'purchase9': '', 'cost9': '', 'category9': ''\n",
      "'date10': '', 'purchase10': '', 'cost10': '', 'category10': ''\n",
      "'date11': '', 'purchase11': '', 'cost11': '', 'category11': ''\n",
      "'date12': '', 'purchase12': '', 'cost12': '', 'category12': ''\n",
      "'date13': '', 'purchase13': '', 'cost13': '', 'category13': ''\n",
      "'date14': '', 'purchase14': '', 'cost14': '', 'category14': ''\n",
      "'date15': '', 'purchase15': '', 'cost15': '', 'category15': ''\n",
      "'date16': '', 'purchase16': '', 'cost16': '', 'category16': ''\n",
      "'date17': '', 'purchase17': '', 'cost17': '', 'category17': ''\n",
      "'date18': '', 'purchase18': '', 'cost18': '', 'category18': ''\n",
      "'date19': '', 'purchase19': '', 'cost19': '', 'category19': ''\n",
      "'date20': '', 'purchase20': '', 'cost20': '', 'category20': ''\n",
      "'date21': '', 'purchase21': '', 'cost21': '', 'category21': ''\n",
      "'date22': '', 'purchase22': '', 'cost22': '', 'category22': ''\n",
      "'date23': '', 'purchase23': '', 'cost23': '', 'category23': ''\n",
      "'date24': '', 'purchase24': '', 'cost24': '', 'category24': ''\n",
      "'date25': '', 'purchase25': '', 'cost25': '', 'category25': ''\n"
     ]
    }
   ],
   "source": [
    "for i in range(1, 26):\n",
    "    print(f\"'date{i}': '', 'purchase{i}': '', 'cost{i}': '', 'category{i}': '',\")"
   ]
  },
  {
   "cell_type": "code",
   "execution_count": null,
   "metadata": {},
   "outputs": [],
   "source": []
  }
 ],
 "metadata": {
  "kernelspec": {
   "display_name": "commons3",
   "language": "python",
   "name": "commons3"
  },
  "language_info": {
   "codemirror_mode": {
    "name": "ipython",
    "version": 3
   },
   "file_extension": ".py",
   "mimetype": "text/x-python",
   "name": "python",
   "nbconvert_exporter": "python",
   "pygments_lexer": "ipython3",
   "version": "3.8.5"
  },
  "toc": {
   "base_numbering": 1,
   "nav_menu": {},
   "number_sections": true,
   "sideBar": true,
   "skip_h1_title": false,
   "title_cell": "Table of Contents",
   "title_sidebar": "Contents",
   "toc_cell": false,
   "toc_position": {},
   "toc_section_display": true,
   "toc_window_display": false
  }
 },
 "nbformat": 4,
 "nbformat_minor": 4
}
