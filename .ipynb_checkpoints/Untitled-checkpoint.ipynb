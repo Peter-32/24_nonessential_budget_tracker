{
 "cells": [
  {
   "cell_type": "code",
   "execution_count": 3,
   "metadata": {},
   "outputs": [],
   "source": [
    "with open(\"/Users/petermyers/Desktop/high_quality_programs/24_nonessential_budget_tracker/secrets.txt\") as file:\n",
    "    data = file.read().split()"
   ]
  },
  {
   "cell_type": "code",
   "execution_count": 4,
   "metadata": {},
   "outputs": [
    {
     "data": {
      "text/plain": [
       "['615102369441-j0eivcdsqtte768v32nmgllsoft8u5d9.apps.googleusercontent.com',\n",
       " 'sKuKJD1FmXinMR2SZ7SDM12N']"
      ]
     },
     "execution_count": 4,
     "metadata": {},
     "output_type": "execute_result"
    }
   ],
   "source": [
    "data"
   ]
  },
  {
   "cell_type": "code",
   "execution_count": 5,
   "metadata": {},
   "outputs": [
    {
     "name": "stdout",
     "output_type": "stream",
     "text": [
      "'purchase0': \"\", 'cost0': \"\", 'category0': \"need\",\n",
      "'purchase1': \"\", 'cost1': \"\", 'category1': \"need\",\n",
      "'purchase2': \"\", 'cost2': \"\", 'category2': \"need\",\n",
      "'purchase3': \"\", 'cost3': \"\", 'category3': \"need\",\n",
      "'purchase4': \"\", 'cost4': \"\", 'category4': \"need\",\n",
      "'purchase5': \"\", 'cost5': \"\", 'category5': \"need\",\n",
      "'purchase6': \"\", 'cost6': \"\", 'category6': \"need\",\n",
      "'purchase7': \"\", 'cost7': \"\", 'category7': \"need\",\n",
      "'purchase8': \"\", 'cost8': \"\", 'category8': \"need\",\n",
      "'purchase9': \"\", 'cost9': \"\", 'category9': \"need\",\n",
      "'purchase10': \"\", 'cost10': \"\", 'category10': \"need\",\n",
      "'purchase11': \"\", 'cost11': \"\", 'category11': \"need\",\n",
      "'purchase12': \"\", 'cost12': \"\", 'category12': \"need\",\n"
     ]
    }
   ],
   "source": [
    "for i in range(13):\n",
    "    print(f\"\"\"        <tr>\n",
    "          <th scope=\"row\">1</th>\n",
    "          <td><input type=\"text\" name=\"purchase1\" id=\"purchase1\" placeholder=\"Rent\" value=\"{{setup['purchase1']}}\"><br></td>\n",
    "          <td><input type=\"text\" name=\"cost1\" id=\"cost1\" placeholder=\"500\" value=\"{{setup['cost1']}}\"><br></td>\n",
    "          <td><select name=\"category1\" id=\"category1\">\n",
    "            {% if setup['category1'] == 'need' %}\n",
    "              <option value=\"need\" selected>Need</option>\n",
    "            {% else %}\n",
    "              <option value=\"need\">Need</option>\n",
    "            {% endif %}\n",
    "            {% if setup['category1'] == 'need' %}\n",
    "              <option value=\"want\">Want</option>\n",
    "            {% else %}\n",
    "              <option value=\"want\" selected>Want</option>\n",
    "            {% endif %}            \n",
    "              </select>\n",
    "          </td>\n",
    "        </tr>\"\"\".replace(\"1\", i))"
   ]
  },
  {
   "cell_type": "code",
   "execution_count": null,
   "metadata": {},
   "outputs": [],
   "source": []
  }
 ],
 "metadata": {
  "kernelspec": {
   "display_name": "commons3",
   "language": "python",
   "name": "commons3"
  },
  "language_info": {
   "codemirror_mode": {
    "name": "ipython",
    "version": 3
   },
   "file_extension": ".py",
   "mimetype": "text/x-python",
   "name": "python",
   "nbconvert_exporter": "python",
   "pygments_lexer": "ipython3",
   "version": "3.8.5"
  },
  "toc": {
   "base_numbering": 1,
   "nav_menu": {},
   "number_sections": true,
   "sideBar": true,
   "skip_h1_title": false,
   "title_cell": "Table of Contents",
   "title_sidebar": "Contents",
   "toc_cell": false,
   "toc_position": {},
   "toc_section_display": true,
   "toc_window_display": false
  }
 },
 "nbformat": 4,
 "nbformat_minor": 4
}
